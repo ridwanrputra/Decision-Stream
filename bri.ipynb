{
  "nbformat": 4,
  "nbformat_minor": 0,
  "metadata": {
    "kernelspec": {
      "display_name": "Python 3",
      "language": "python",
      "name": "python3"
    },
    "language_info": {
      "codemirror_mode": {
        "name": "ipython",
        "version": 3
      },
      "file_extension": ".py",
      "mimetype": "text/x-python",
      "name": "python",
      "nbconvert_exporter": "python",
      "pygments_lexer": "ipython3",
      "version": "3.6.9"
    },
    "colab": {
      "name": "bri.ipynb",
      "provenance": [],
      "collapsed_sections": [],
      "include_colab_link": true
    }
  },
  "cells": [
    {
      "cell_type": "markdown",
      "metadata": {
        "id": "view-in-github",
        "colab_type": "text"
      },
      "source": [
        "<a href=\"https://colab.research.google.com/github/ridwanrputra/Decision-Stream/blob/master/bri.ipynb\" target=\"_parent\"><img src=\"https://colab.research.google.com/assets/colab-badge.svg\" alt=\"Open In Colab\"/></a>"
      ]
    },
    {
      "cell_type": "code",
      "metadata": {
        "id": "rSQYg7Xv8Ah8"
      },
      "source": [
        "import pandas as pd"
      ],
      "execution_count": null,
      "outputs": []
    },
    {
      "cell_type": "code",
      "metadata": {
        "id": "HnXVse_58AiM",
        "outputId": "61691ccc-76a9-41ab-92e4-518e02b8fe7e"
      },
      "source": [
        "!ls"
      ],
      "execution_count": null,
      "outputs": [
        {
          "output_type": "stream",
          "text": [
            "credit-downsampled.csv\tUntitled.ipynb\r\n"
          ],
          "name": "stdout"
        }
      ]
    },
    {
      "cell_type": "code",
      "metadata": {
        "id": "1y37U2ie8AiT"
      },
      "source": [
        "df = pd.read_csv(\"credit-downsampled.csv\")"
      ],
      "execution_count": null,
      "outputs": []
    },
    {
      "cell_type": "code",
      "metadata": {
        "id": "phY5fAOc8AiV",
        "outputId": "febb18c7-e571-48dc-8d39-7d9d6b7a9054"
      },
      "source": [
        "df[[\"MonthlyIncome\",\"NumberOfDependents\"]]"
      ],
      "execution_count": null,
      "outputs": [
        {
          "output_type": "execute_result",
          "data": {
            "text/html": [
              "<div>\n",
              "<style scoped>\n",
              "    .dataframe tbody tr th:only-of-type {\n",
              "        vertical-align: middle;\n",
              "    }\n",
              "\n",
              "    .dataframe tbody tr th {\n",
              "        vertical-align: top;\n",
              "    }\n",
              "\n",
              "    .dataframe thead th {\n",
              "        text-align: right;\n",
              "    }\n",
              "</style>\n",
              "<table border=\"1\" class=\"dataframe\">\n",
              "  <thead>\n",
              "    <tr style=\"text-align: right;\">\n",
              "      <th></th>\n",
              "      <th>MonthlyIncome</th>\n",
              "      <th>NumberOfDependents</th>\n",
              "    </tr>\n",
              "  </thead>\n",
              "  <tbody>\n",
              "    <tr>\n",
              "      <th>0</th>\n",
              "      <td>1666.0</td>\n",
              "      <td>0.0</td>\n",
              "    </tr>\n",
              "    <tr>\n",
              "      <th>1</th>\n",
              "      <td>4200.0</td>\n",
              "      <td>3.0</td>\n",
              "    </tr>\n",
              "    <tr>\n",
              "      <th>2</th>\n",
              "      <td>3070.0</td>\n",
              "      <td>2.0</td>\n",
              "    </tr>\n",
              "    <tr>\n",
              "      <th>3</th>\n",
              "      <td>NaN</td>\n",
              "      <td>0.0</td>\n",
              "    </tr>\n",
              "    <tr>\n",
              "      <th>4</th>\n",
              "      <td>NaN</td>\n",
              "      <td>0.0</td>\n",
              "    </tr>\n",
              "    <tr>\n",
              "      <th>...</th>\n",
              "      <td>...</td>\n",
              "      <td>...</td>\n",
              "    </tr>\n",
              "    <tr>\n",
              "      <th>20047</th>\n",
              "      <td>4041.0</td>\n",
              "      <td>0.0</td>\n",
              "    </tr>\n",
              "    <tr>\n",
              "      <th>20048</th>\n",
              "      <td>1548.0</td>\n",
              "      <td>0.0</td>\n",
              "    </tr>\n",
              "    <tr>\n",
              "      <th>20049</th>\n",
              "      <td>NaN</td>\n",
              "      <td>0.0</td>\n",
              "    </tr>\n",
              "    <tr>\n",
              "      <th>20050</th>\n",
              "      <td>1614.0</td>\n",
              "      <td>0.0</td>\n",
              "    </tr>\n",
              "    <tr>\n",
              "      <th>20051</th>\n",
              "      <td>10200.0</td>\n",
              "      <td>1.0</td>\n",
              "    </tr>\n",
              "  </tbody>\n",
              "</table>\n",
              "<p>20052 rows × 2 columns</p>\n",
              "</div>"
            ],
            "text/plain": [
              "       MonthlyIncome  NumberOfDependents\n",
              "0             1666.0                 0.0\n",
              "1             4200.0                 3.0\n",
              "2             3070.0                 2.0\n",
              "3                NaN                 0.0\n",
              "4                NaN                 0.0\n",
              "...              ...                 ...\n",
              "20047         4041.0                 0.0\n",
              "20048         1548.0                 0.0\n",
              "20049            NaN                 0.0\n",
              "20050         1614.0                 0.0\n",
              "20051        10200.0                 1.0\n",
              "\n",
              "[20052 rows x 2 columns]"
            ]
          },
          "metadata": {
            "tags": []
          },
          "execution_count": 19
        }
      ]
    },
    {
      "cell_type": "code",
      "metadata": {
        "id": "fetK3Er38AiY",
        "outputId": "9501e881-cf41-4d47-e248-2342a03b38fa"
      },
      "source": [
        "df.info()\n"
      ],
      "execution_count": null,
      "outputs": [
        {
          "output_type": "stream",
          "text": [
            "<class 'pandas.core.frame.DataFrame'>\n",
            "RangeIndex: 20052 entries, 0 to 20051\n",
            "Data columns (total 11 columns):\n",
            " #   Column                                Non-Null Count  Dtype  \n",
            "---  ------                                --------------  -----  \n",
            " 0   RevolvingUtilizationOfUnsecuredLines  20052 non-null  float64\n",
            " 1   age                                   20052 non-null  int64  \n",
            " 2   NumberOfTime30.59DaysPastDueNotWorse  20052 non-null  int64  \n",
            " 3   DebtRatio                             20052 non-null  float64\n",
            " 4   MonthlyIncome                         16380 non-null  float64\n",
            " 5   NumberOfOpenCreditLinesAndLoans       20052 non-null  int64  \n",
            " 6   NumberOfTimes90DaysLate               20052 non-null  int64  \n",
            " 7   NumberRealEstateLoansOrLines          20052 non-null  int64  \n",
            " 8   NumberOfTime60.89DaysPastDueNotWorse  20052 non-null  int64  \n",
            " 9   NumberOfDependents                    19603 non-null  float64\n",
            " 10  Class                                 20052 non-null  int64  \n",
            "dtypes: float64(4), int64(7)\n",
            "memory usage: 1.7 MB\n"
          ],
          "name": "stdout"
        }
      ]
    },
    {
      "cell_type": "code",
      "metadata": {
        "id": "4aHT2T0a8Aia",
        "outputId": "7a713cf5-42e3-49c3-93df-fb0962fc7cf4"
      },
      "source": [
        "import pandas as pd\n",
        "import numpy as np\n",
        "\n",
        "corr = df.corr()\n",
        "corr.style.background_gradient(cmap='coolwarm')\n",
        "# 'RdBu_r' & 'BrBG' are other good diverging colormaps\n"
      ],
      "execution_count": null,
      "outputs": [
        {
          "output_type": "stream",
          "text": [
            "In /home/specialthanks/.local/lib/python3.6/site-packages/matplotlib/mpl-data/stylelib/_classic_test.mplstyle: \n",
            "The text.latex.preview rcparam was deprecated in Matplotlib 3.3 and will be removed two minor releases later.\n",
            "In /home/specialthanks/.local/lib/python3.6/site-packages/matplotlib/mpl-data/stylelib/_classic_test.mplstyle: \n",
            "The mathtext.fallback_to_cm rcparam was deprecated in Matplotlib 3.3 and will be removed two minor releases later.\n",
            "In /home/specialthanks/.local/lib/python3.6/site-packages/matplotlib/mpl-data/stylelib/_classic_test.mplstyle: Support for setting the 'mathtext.fallback_to_cm' rcParam is deprecated since 3.3 and will be removed two minor releases later; use 'mathtext.fallback : 'cm' instead.\n",
            "In /home/specialthanks/.local/lib/python3.6/site-packages/matplotlib/mpl-data/stylelib/_classic_test.mplstyle: \n",
            "The validate_bool_maybe_none function was deprecated in Matplotlib 3.3 and will be removed two minor releases later.\n",
            "In /home/specialthanks/.local/lib/python3.6/site-packages/matplotlib/mpl-data/stylelib/_classic_test.mplstyle: \n",
            "The savefig.jpeg_quality rcparam was deprecated in Matplotlib 3.3 and will be removed two minor releases later.\n",
            "In /home/specialthanks/.local/lib/python3.6/site-packages/matplotlib/mpl-data/stylelib/_classic_test.mplstyle: \n",
            "The keymap.all_axes rcparam was deprecated in Matplotlib 3.3 and will be removed two minor releases later.\n",
            "In /home/specialthanks/.local/lib/python3.6/site-packages/matplotlib/mpl-data/stylelib/_classic_test.mplstyle: \n",
            "The animation.avconv_path rcparam was deprecated in Matplotlib 3.3 and will be removed two minor releases later.\n",
            "In /home/specialthanks/.local/lib/python3.6/site-packages/matplotlib/mpl-data/stylelib/_classic_test.mplstyle: \n",
            "The animation.avconv_args rcparam was deprecated in Matplotlib 3.3 and will be removed two minor releases later.\n"
          ],
          "name": "stderr"
        },
        {
          "output_type": "execute_result",
          "data": {
            "text/html": [
              "<style  type=\"text/css\" >\n",
              "#T_857520a6_3a26_11eb_99df_5cc5d4cc670drow0_col0,#T_857520a6_3a26_11eb_99df_5cc5d4cc670drow1_col1,#T_857520a6_3a26_11eb_99df_5cc5d4cc670drow2_col2,#T_857520a6_3a26_11eb_99df_5cc5d4cc670drow3_col3,#T_857520a6_3a26_11eb_99df_5cc5d4cc670drow4_col4,#T_857520a6_3a26_11eb_99df_5cc5d4cc670drow5_col5,#T_857520a6_3a26_11eb_99df_5cc5d4cc670drow6_col6,#T_857520a6_3a26_11eb_99df_5cc5d4cc670drow7_col7,#T_857520a6_3a26_11eb_99df_5cc5d4cc670drow8_col8,#T_857520a6_3a26_11eb_99df_5cc5d4cc670drow9_col9,#T_857520a6_3a26_11eb_99df_5cc5d4cc670drow10_col10{\n",
              "            background-color:  #b40426;\n",
              "            color:  #f1f1f1;\n",
              "        }#T_857520a6_3a26_11eb_99df_5cc5d4cc670drow0_col1,#T_857520a6_3a26_11eb_99df_5cc5d4cc670drow5_col9,#T_857520a6_3a26_11eb_99df_5cc5d4cc670drow7_col10{\n",
              "            background-color:  #7597f6;\n",
              "            color:  #000000;\n",
              "        }#T_857520a6_3a26_11eb_99df_5cc5d4cc670drow0_col2,#T_857520a6_3a26_11eb_99df_5cc5d4cc670drow4_col6{\n",
              "            background-color:  #5a78e4;\n",
              "            color:  #000000;\n",
              "        }#T_857520a6_3a26_11eb_99df_5cc5d4cc670drow0_col3{\n",
              "            background-color:  #4f69d9;\n",
              "            color:  #000000;\n",
              "        }#T_857520a6_3a26_11eb_99df_5cc5d4cc670drow0_col4,#T_857520a6_3a26_11eb_99df_5cc5d4cc670drow9_col1{\n",
              "            background-color:  #4961d2;\n",
              "            color:  #f1f1f1;\n",
              "        }#T_857520a6_3a26_11eb_99df_5cc5d4cc670drow0_col5,#T_857520a6_3a26_11eb_99df_5cc5d4cc670drow2_col1,#T_857520a6_3a26_11eb_99df_5cc5d4cc670drow8_col1{\n",
              "            background-color:  #6180e9;\n",
              "            color:  #000000;\n",
              "        }#T_857520a6_3a26_11eb_99df_5cc5d4cc670drow0_col6,#T_857520a6_3a26_11eb_99df_5cc5d4cc670drow2_col9{\n",
              "            background-color:  #6384eb;\n",
              "            color:  #000000;\n",
              "        }#T_857520a6_3a26_11eb_99df_5cc5d4cc670drow0_col7,#T_857520a6_3a26_11eb_99df_5cc5d4cc670drow4_col2{\n",
              "            background-color:  #5470de;\n",
              "            color:  #000000;\n",
              "        }#T_857520a6_3a26_11eb_99df_5cc5d4cc670drow0_col8,#T_857520a6_3a26_11eb_99df_5cc5d4cc670drow3_col6,#T_857520a6_3a26_11eb_99df_5cc5d4cc670drow6_col1{\n",
              "            background-color:  #5f7fe8;\n",
              "            color:  #000000;\n",
              "        }#T_857520a6_3a26_11eb_99df_5cc5d4cc670drow0_col9,#T_857520a6_3a26_11eb_99df_5cc5d4cc670drow4_col10{\n",
              "            background-color:  #6a8bef;\n",
              "            color:  #000000;\n",
              "        }#T_857520a6_3a26_11eb_99df_5cc5d4cc670drow0_col10{\n",
              "            background-color:  #799cf8;\n",
              "            color:  #000000;\n",
              "        }#T_857520a6_3a26_11eb_99df_5cc5d4cc670drow1_col0,#T_857520a6_3a26_11eb_99df_5cc5d4cc670drow1_col9,#T_857520a6_3a26_11eb_99df_5cc5d4cc670drow1_col10,#T_857520a6_3a26_11eb_99df_5cc5d4cc670drow4_col3,#T_857520a6_3a26_11eb_99df_5cc5d4cc670drow5_col2,#T_857520a6_3a26_11eb_99df_5cc5d4cc670drow5_col6,#T_857520a6_3a26_11eb_99df_5cc5d4cc670drow5_col8,#T_857520a6_3a26_11eb_99df_5cc5d4cc670drow6_col5,#T_857520a6_3a26_11eb_99df_5cc5d4cc670drow6_col7,#T_857520a6_3a26_11eb_99df_5cc5d4cc670drow10_col1,#T_857520a6_3a26_11eb_99df_5cc5d4cc670drow10_col4{\n",
              "            background-color:  #3b4cc0;\n",
              "            color:  #f1f1f1;\n",
              "        }#T_857520a6_3a26_11eb_99df_5cc5d4cc670drow1_col2{\n",
              "            background-color:  #445acc;\n",
              "            color:  #f1f1f1;\n",
              "        }#T_857520a6_3a26_11eb_99df_5cc5d4cc670drow1_col3{\n",
              "            background-color:  #4e68d8;\n",
              "            color:  #000000;\n",
              "        }#T_857520a6_3a26_11eb_99df_5cc5d4cc670drow1_col4,#T_857520a6_3a26_11eb_99df_5cc5d4cc670drow3_col8{\n",
              "            background-color:  #5d7ce6;\n",
              "            color:  #000000;\n",
              "        }#T_857520a6_3a26_11eb_99df_5cc5d4cc670drow1_col5{\n",
              "            background-color:  #a2c1ff;\n",
              "            color:  #000000;\n",
              "        }#T_857520a6_3a26_11eb_99df_5cc5d4cc670drow1_col6,#T_857520a6_3a26_11eb_99df_5cc5d4cc670drow7_col2{\n",
              "            background-color:  #4a63d3;\n",
              "            color:  #f1f1f1;\n",
              "        }#T_857520a6_3a26_11eb_99df_5cc5d4cc670drow1_col7{\n",
              "            background-color:  #7093f3;\n",
              "            color:  #000000;\n",
              "        }#T_857520a6_3a26_11eb_99df_5cc5d4cc670drow1_col8,#T_857520a6_3a26_11eb_99df_5cc5d4cc670drow3_col0{\n",
              "            background-color:  #485fd1;\n",
              "            color:  #f1f1f1;\n",
              "        }#T_857520a6_3a26_11eb_99df_5cc5d4cc670drow2_col0,#T_857520a6_3a26_11eb_99df_5cc5d4cc670drow3_col4,#T_857520a6_3a26_11eb_99df_5cc5d4cc670drow4_col0,#T_857520a6_3a26_11eb_99df_5cc5d4cc670drow6_col0,#T_857520a6_3a26_11eb_99df_5cc5d4cc670drow8_col0,#T_857520a6_3a26_11eb_99df_5cc5d4cc670drow8_col5,#T_857520a6_3a26_11eb_99df_5cc5d4cc670drow9_col0,#T_857520a6_3a26_11eb_99df_5cc5d4cc670drow9_col3{\n",
              "            background-color:  #3e51c5;\n",
              "            color:  #f1f1f1;\n",
              "        }#T_857520a6_3a26_11eb_99df_5cc5d4cc670drow2_col3{\n",
              "            background-color:  #4358cb;\n",
              "            color:  #f1f1f1;\n",
              "        }#T_857520a6_3a26_11eb_99df_5cc5d4cc670drow2_col4,#T_857520a6_3a26_11eb_99df_5cc5d4cc670drow2_col5,#T_857520a6_3a26_11eb_99df_5cc5d4cc670drow6_col3,#T_857520a6_3a26_11eb_99df_5cc5d4cc670drow8_col3{\n",
              "            background-color:  #4257c9;\n",
              "            color:  #f1f1f1;\n",
              "        }#T_857520a6_3a26_11eb_99df_5cc5d4cc670drow2_col6,#T_857520a6_3a26_11eb_99df_5cc5d4cc670drow6_col2{\n",
              "            background-color:  #b70d28;\n",
              "            color:  #f1f1f1;\n",
              "        }#T_857520a6_3a26_11eb_99df_5cc5d4cc670drow2_col7,#T_857520a6_3a26_11eb_99df_5cc5d4cc670drow10_col0{\n",
              "            background-color:  #3f53c6;\n",
              "            color:  #f1f1f1;\n",
              "        }#T_857520a6_3a26_11eb_99df_5cc5d4cc670drow2_col8,#T_857520a6_3a26_11eb_99df_5cc5d4cc670drow6_col8,#T_857520a6_3a26_11eb_99df_5cc5d4cc670drow8_col2,#T_857520a6_3a26_11eb_99df_5cc5d4cc670drow8_col6{\n",
              "            background-color:  #b50927;\n",
              "            color:  #f1f1f1;\n",
              "        }#T_857520a6_3a26_11eb_99df_5cc5d4cc670drow2_col10{\n",
              "            background-color:  #9bbcff;\n",
              "            color:  #000000;\n",
              "        }#T_857520a6_3a26_11eb_99df_5cc5d4cc670drow3_col1,#T_857520a6_3a26_11eb_99df_5cc5d4cc670drow7_col4,#T_857520a6_3a26_11eb_99df_5cc5d4cc670drow10_col2{\n",
              "            background-color:  #81a4fb;\n",
              "            color:  #000000;\n",
              "        }#T_857520a6_3a26_11eb_99df_5cc5d4cc670drow3_col2{\n",
              "            background-color:  #5977e3;\n",
              "            color:  #000000;\n",
              "        }#T_857520a6_3a26_11eb_99df_5cc5d4cc670drow3_col5,#T_857520a6_3a26_11eb_99df_5cc5d4cc670drow3_col10,#T_857520a6_3a26_11eb_99df_5cc5d4cc670drow5_col4{\n",
              "            background-color:  #7396f5;\n",
              "            color:  #000000;\n",
              "        }#T_857520a6_3a26_11eb_99df_5cc5d4cc670drow3_col7{\n",
              "            background-color:  #6c8ff1;\n",
              "            color:  #000000;\n",
              "        }#T_857520a6_3a26_11eb_99df_5cc5d4cc670drow3_col9,#T_857520a6_3a26_11eb_99df_5cc5d4cc670drow6_col9,#T_857520a6_3a26_11eb_99df_5cc5d4cc670drow7_col3,#T_857520a6_3a26_11eb_99df_5cc5d4cc670drow8_col9{\n",
              "            background-color:  #6282ea;\n",
              "            color:  #000000;\n",
              "        }#T_857520a6_3a26_11eb_99df_5cc5d4cc670drow4_col1{\n",
              "            background-color:  #8badfd;\n",
              "            color:  #000000;\n",
              "        }#T_857520a6_3a26_11eb_99df_5cc5d4cc670drow4_col5{\n",
              "            background-color:  #8caffe;\n",
              "            color:  #000000;\n",
              "        }#T_857520a6_3a26_11eb_99df_5cc5d4cc670drow4_col7{\n",
              "            background-color:  #88abfd;\n",
              "            color:  #000000;\n",
              "        }#T_857520a6_3a26_11eb_99df_5cc5d4cc670drow4_col8,#T_857520a6_3a26_11eb_99df_5cc5d4cc670drow9_col8{\n",
              "            background-color:  #5875e1;\n",
              "            color:  #000000;\n",
              "        }#T_857520a6_3a26_11eb_99df_5cc5d4cc670drow4_col9{\n",
              "            background-color:  #7b9ff9;\n",
              "            color:  #000000;\n",
              "        }#T_857520a6_3a26_11eb_99df_5cc5d4cc670drow5_col0{\n",
              "            background-color:  #3c4ec2;\n",
              "            color:  #f1f1f1;\n",
              "        }#T_857520a6_3a26_11eb_99df_5cc5d4cc670drow5_col1{\n",
              "            background-color:  #b3cdfb;\n",
              "            color:  #000000;\n",
              "        }#T_857520a6_3a26_11eb_99df_5cc5d4cc670drow5_col3{\n",
              "            background-color:  #5673e0;\n",
              "            color:  #000000;\n",
              "        }#T_857520a6_3a26_11eb_99df_5cc5d4cc670drow5_col7{\n",
              "            background-color:  #dfdbd9;\n",
              "            color:  #000000;\n",
              "        }#T_857520a6_3a26_11eb_99df_5cc5d4cc670drow5_col10{\n",
              "            background-color:  #6788ee;\n",
              "            color:  #000000;\n",
              "        }#T_857520a6_3a26_11eb_99df_5cc5d4cc670drow6_col4,#T_857520a6_3a26_11eb_99df_5cc5d4cc670drow7_col0,#T_857520a6_3a26_11eb_99df_5cc5d4cc670drow8_col4,#T_857520a6_3a26_11eb_99df_5cc5d4cc670drow10_col3{\n",
              "            background-color:  #4055c8;\n",
              "            color:  #f1f1f1;\n",
              "        }#T_857520a6_3a26_11eb_99df_5cc5d4cc670drow6_col10{\n",
              "            background-color:  #98b9ff;\n",
              "            color:  #000000;\n",
              "        }#T_857520a6_3a26_11eb_99df_5cc5d4cc670drow7_col1{\n",
              "            background-color:  #96b7ff;\n",
              "            color:  #000000;\n",
              "        }#T_857520a6_3a26_11eb_99df_5cc5d4cc670drow7_col5{\n",
              "            background-color:  #e7d7ce;\n",
              "            color:  #000000;\n",
              "        }#T_857520a6_3a26_11eb_99df_5cc5d4cc670drow7_col6,#T_857520a6_3a26_11eb_99df_5cc5d4cc670drow10_col7{\n",
              "            background-color:  #4c66d6;\n",
              "            color:  #000000;\n",
              "        }#T_857520a6_3a26_11eb_99df_5cc5d4cc670drow7_col8{\n",
              "            background-color:  #4b64d5;\n",
              "            color:  #f1f1f1;\n",
              "        }#T_857520a6_3a26_11eb_99df_5cc5d4cc670drow7_col9{\n",
              "            background-color:  #82a6fb;\n",
              "            color:  #000000;\n",
              "        }#T_857520a6_3a26_11eb_99df_5cc5d4cc670drow8_col7{\n",
              "            background-color:  #3d50c3;\n",
              "            color:  #f1f1f1;\n",
              "        }#T_857520a6_3a26_11eb_99df_5cc5d4cc670drow8_col10{\n",
              "            background-color:  #94b6ff;\n",
              "            color:  #000000;\n",
              "        }#T_857520a6_3a26_11eb_99df_5cc5d4cc670drow9_col2{\n",
              "            background-color:  #5572df;\n",
              "            color:  #000000;\n",
              "        }#T_857520a6_3a26_11eb_99df_5cc5d4cc670drow9_col4,#T_857520a6_3a26_11eb_99df_5cc5d4cc670drow9_col6{\n",
              "            background-color:  #5b7ae5;\n",
              "            color:  #000000;\n",
              "        }#T_857520a6_3a26_11eb_99df_5cc5d4cc670drow9_col5{\n",
              "            background-color:  #6e90f2;\n",
              "            color:  #000000;\n",
              "        }#T_857520a6_3a26_11eb_99df_5cc5d4cc670drow9_col7{\n",
              "            background-color:  #6b8df0;\n",
              "            color:  #000000;\n",
              "        }#T_857520a6_3a26_11eb_99df_5cc5d4cc670drow9_col10{\n",
              "            background-color:  #90b2fe;\n",
              "            color:  #000000;\n",
              "        }#T_857520a6_3a26_11eb_99df_5cc5d4cc670drow10_col5{\n",
              "            background-color:  #516ddb;\n",
              "            color:  #000000;\n",
              "        }#T_857520a6_3a26_11eb_99df_5cc5d4cc670drow10_col6{\n",
              "            background-color:  #85a8fc;\n",
              "            color:  #000000;\n",
              "        }#T_857520a6_3a26_11eb_99df_5cc5d4cc670drow10_col8{\n",
              "            background-color:  #7da0f9;\n",
              "            color:  #000000;\n",
              "        }#T_857520a6_3a26_11eb_99df_5cc5d4cc670drow10_col9{\n",
              "            background-color:  #84a7fc;\n",
              "            color:  #000000;\n",
              "        }</style><table id=\"T_857520a6_3a26_11eb_99df_5cc5d4cc670d\" ><thead>    <tr>        <th class=\"blank level0\" ></th>        <th class=\"col_heading level0 col0\" >RevolvingUtilizationOfUnsecuredLines</th>        <th class=\"col_heading level0 col1\" >age</th>        <th class=\"col_heading level0 col2\" >NumberOfTime30.59DaysPastDueNotWorse</th>        <th class=\"col_heading level0 col3\" >DebtRatio</th>        <th class=\"col_heading level0 col4\" >MonthlyIncome</th>        <th class=\"col_heading level0 col5\" >NumberOfOpenCreditLinesAndLoans</th>        <th class=\"col_heading level0 col6\" >NumberOfTimes90DaysLate</th>        <th class=\"col_heading level0 col7\" >NumberRealEstateLoansOrLines</th>        <th class=\"col_heading level0 col8\" >NumberOfTime60.89DaysPastDueNotWorse</th>        <th class=\"col_heading level0 col9\" >NumberOfDependents</th>        <th class=\"col_heading level0 col10\" >Class</th>    </tr></thead><tbody>\n",
              "                <tr>\n",
              "                        <th id=\"T_857520a6_3a26_11eb_99df_5cc5d4cc670dlevel0_row0\" class=\"row_heading level0 row0\" >RevolvingUtilizationOfUnsecuredLines</th>\n",
              "                        <td id=\"T_857520a6_3a26_11eb_99df_5cc5d4cc670drow0_col0\" class=\"data row0 col0\" >1.000000</td>\n",
              "                        <td id=\"T_857520a6_3a26_11eb_99df_5cc5d4cc670drow0_col1\" class=\"data row0 col1\" >-0.015476</td>\n",
              "                        <td id=\"T_857520a6_3a26_11eb_99df_5cc5d4cc670drow0_col2\" class=\"data row0 col2\" >-0.003057</td>\n",
              "                        <td id=\"T_857520a6_3a26_11eb_99df_5cc5d4cc670drow0_col3\" class=\"data row0 col3\" >0.029059</td>\n",
              "                        <td id=\"T_857520a6_3a26_11eb_99df_5cc5d4cc670drow0_col4\" class=\"data row0 col4\" >-0.001177</td>\n",
              "                        <td id=\"T_857520a6_3a26_11eb_99df_5cc5d4cc670drow0_col5\" class=\"data row0 col5\" >-0.011454</td>\n",
              "                        <td id=\"T_857520a6_3a26_11eb_99df_5cc5d4cc670drow0_col6\" class=\"data row0 col6\" >-0.002494</td>\n",
              "                        <td id=\"T_857520a6_3a26_11eb_99df_5cc5d4cc670drow0_col7\" class=\"data row0 col7\" >0.008296</td>\n",
              "                        <td id=\"T_857520a6_3a26_11eb_99df_5cc5d4cc670drow0_col8\" class=\"data row0 col8\" >-0.002150</td>\n",
              "                        <td id=\"T_857520a6_3a26_11eb_99df_5cc5d4cc670drow0_col9\" class=\"data row0 col9\" >-0.000051</td>\n",
              "                        <td id=\"T_857520a6_3a26_11eb_99df_5cc5d4cc670drow0_col10\" class=\"data row0 col10\" >0.001183</td>\n",
              "            </tr>\n",
              "            <tr>\n",
              "                        <th id=\"T_857520a6_3a26_11eb_99df_5cc5d4cc670dlevel0_row1\" class=\"row_heading level0 row1\" >age</th>\n",
              "                        <td id=\"T_857520a6_3a26_11eb_99df_5cc5d4cc670drow1_col0\" class=\"data row1 col0\" >-0.015476</td>\n",
              "                        <td id=\"T_857520a6_3a26_11eb_99df_5cc5d4cc670drow1_col1\" class=\"data row1 col1\" >1.000000</td>\n",
              "                        <td id=\"T_857520a6_3a26_11eb_99df_5cc5d4cc670drow1_col2\" class=\"data row1 col2\" >-0.085671</td>\n",
              "                        <td id=\"T_857520a6_3a26_11eb_99df_5cc5d4cc670drow1_col3\" class=\"data row1 col3\" >0.027887</td>\n",
              "                        <td id=\"T_857520a6_3a26_11eb_99df_5cc5d4cc670drow1_col4\" class=\"data row1 col4\" >0.065300</td>\n",
              "                        <td id=\"T_857520a6_3a26_11eb_99df_5cc5d4cc670drow1_col5\" class=\"data row1 col5\" >0.207315</td>\n",
              "                        <td id=\"T_857520a6_3a26_11eb_99df_5cc5d4cc670drow1_col6\" class=\"data row1 col6\" >-0.090174</td>\n",
              "                        <td id=\"T_857520a6_3a26_11eb_99df_5cc5d4cc670drow1_col7\" class=\"data row1 col7\" >0.102344</td>\n",
              "                        <td id=\"T_857520a6_3a26_11eb_99df_5cc5d4cc670drow1_col8\" class=\"data row1 col8\" >-0.084174</td>\n",
              "                        <td id=\"T_857520a6_3a26_11eb_99df_5cc5d4cc670drow1_col9\" class=\"data row1 col9\" >-0.177935</td>\n",
              "                        <td id=\"T_857520a6_3a26_11eb_99df_5cc5d4cc670drow1_col10\" class=\"data row1 col10\" >-0.238278</td>\n",
              "            </tr>\n",
              "            <tr>\n",
              "                        <th id=\"T_857520a6_3a26_11eb_99df_5cc5d4cc670dlevel0_row2\" class=\"row_heading level0 row2\" >NumberOfTime30.59DaysPastDueNotWorse</th>\n",
              "                        <td id=\"T_857520a6_3a26_11eb_99df_5cc5d4cc670drow2_col0\" class=\"data row2 col0\" >-0.003057</td>\n",
              "                        <td id=\"T_857520a6_3a26_11eb_99df_5cc5d4cc670drow2_col1\" class=\"data row2 col1\" >-0.085671</td>\n",
              "                        <td id=\"T_857520a6_3a26_11eb_99df_5cc5d4cc670drow2_col2\" class=\"data row2 col2\" >1.000000</td>\n",
              "                        <td id=\"T_857520a6_3a26_11eb_99df_5cc5d4cc670drow2_col3\" class=\"data row2 col3\" >-0.010446</td>\n",
              "                        <td id=\"T_857520a6_3a26_11eb_99df_5cc5d4cc670drow2_col4\" class=\"data row2 col4\" >-0.027164</td>\n",
              "                        <td id=\"T_857520a6_3a26_11eb_99df_5cc5d4cc670drow2_col5\" class=\"data row2 col5\" >-0.120932</td>\n",
              "                        <td id=\"T_857520a6_3a26_11eb_99df_5cc5d4cc670drow2_col6\" class=\"data row2 col6\" >0.988550</td>\n",
              "                        <td id=\"T_857520a6_3a26_11eb_99df_5cc5d4cc670drow2_col7\" class=\"data row2 col7\" >-0.062873</td>\n",
              "                        <td id=\"T_857520a6_3a26_11eb_99df_5cc5d4cc670drow2_col8\" class=\"data row2 col8\" >0.992217</td>\n",
              "                        <td id=\"T_857520a6_3a26_11eb_99df_5cc5d4cc670drow2_col9\" class=\"data row2 col9\" >-0.024292</td>\n",
              "                        <td id=\"T_857520a6_3a26_11eb_99df_5cc5d4cc670drow2_col10\" class=\"data row2 col10\" >0.120902</td>\n",
              "            </tr>\n",
              "            <tr>\n",
              "                        <th id=\"T_857520a6_3a26_11eb_99df_5cc5d4cc670dlevel0_row3\" class=\"row_heading level0 row3\" >DebtRatio</th>\n",
              "                        <td id=\"T_857520a6_3a26_11eb_99df_5cc5d4cc670drow3_col0\" class=\"data row3 col0\" >0.029059</td>\n",
              "                        <td id=\"T_857520a6_3a26_11eb_99df_5cc5d4cc670drow3_col1\" class=\"data row3 col1\" >0.027887</td>\n",
              "                        <td id=\"T_857520a6_3a26_11eb_99df_5cc5d4cc670drow3_col2\" class=\"data row3 col2\" >-0.010446</td>\n",
              "                        <td id=\"T_857520a6_3a26_11eb_99df_5cc5d4cc670drow3_col3\" class=\"data row3 col3\" >1.000000</td>\n",
              "                        <td id=\"T_857520a6_3a26_11eb_99df_5cc5d4cc670drow3_col4\" class=\"data row3 col4\" >-0.040021</td>\n",
              "                        <td id=\"T_857520a6_3a26_11eb_99df_5cc5d4cc670drow3_col5\" class=\"data row3 col5\" >0.053654</td>\n",
              "                        <td id=\"T_857520a6_3a26_11eb_99df_5cc5d4cc670drow3_col6\" class=\"data row3 col6\" >-0.013016</td>\n",
              "                        <td id=\"T_857520a6_3a26_11eb_99df_5cc5d4cc670drow3_col7\" class=\"data row3 col7\" >0.090579</td>\n",
              "                        <td id=\"T_857520a6_3a26_11eb_99df_5cc5d4cc670drow3_col8\" class=\"data row3 col8\" >-0.011825</td>\n",
              "                        <td id=\"T_857520a6_3a26_11eb_99df_5cc5d4cc670drow3_col9\" class=\"data row3 col9\" >-0.027823</td>\n",
              "                        <td id=\"T_857520a6_3a26_11eb_99df_5cc5d4cc670drow3_col10\" class=\"data row3 col10\" >-0.018252</td>\n",
              "            </tr>\n",
              "            <tr>\n",
              "                        <th id=\"T_857520a6_3a26_11eb_99df_5cc5d4cc670dlevel0_row4\" class=\"row_heading level0 row4\" >MonthlyIncome</th>\n",
              "                        <td id=\"T_857520a6_3a26_11eb_99df_5cc5d4cc670drow4_col0\" class=\"data row4 col0\" >-0.001177</td>\n",
              "                        <td id=\"T_857520a6_3a26_11eb_99df_5cc5d4cc670drow4_col1\" class=\"data row4 col1\" >0.065300</td>\n",
              "                        <td id=\"T_857520a6_3a26_11eb_99df_5cc5d4cc670drow4_col2\" class=\"data row4 col2\" >-0.027164</td>\n",
              "                        <td id=\"T_857520a6_3a26_11eb_99df_5cc5d4cc670drow4_col3\" class=\"data row4 col3\" >-0.040021</td>\n",
              "                        <td id=\"T_857520a6_3a26_11eb_99df_5cc5d4cc670drow4_col4\" class=\"data row4 col4\" >1.000000</td>\n",
              "                        <td id=\"T_857520a6_3a26_11eb_99df_5cc5d4cc670drow4_col5\" class=\"data row4 col5\" >0.133733</td>\n",
              "                        <td id=\"T_857520a6_3a26_11eb_99df_5cc5d4cc670drow4_col6\" class=\"data row4 col6\" >-0.032564</td>\n",
              "                        <td id=\"T_857520a6_3a26_11eb_99df_5cc5d4cc670drow4_col7\" class=\"data row4 col7\" >0.173106</td>\n",
              "                        <td id=\"T_857520a6_3a26_11eb_99df_5cc5d4cc670drow4_col8\" class=\"data row4 col8\" >-0.029555</td>\n",
              "                        <td id=\"T_857520a6_3a26_11eb_99df_5cc5d4cc670drow4_col9\" class=\"data row4 col9\" >0.059460</td>\n",
              "                        <td id=\"T_857520a6_3a26_11eb_99df_5cc5d4cc670drow4_col10\" class=\"data row4 col10\" >-0.053739</td>\n",
              "            </tr>\n",
              "            <tr>\n",
              "                        <th id=\"T_857520a6_3a26_11eb_99df_5cc5d4cc670dlevel0_row5\" class=\"row_heading level0 row5\" >NumberOfOpenCreditLinesAndLoans</th>\n",
              "                        <td id=\"T_857520a6_3a26_11eb_99df_5cc5d4cc670drow5_col0\" class=\"data row5 col0\" >-0.011454</td>\n",
              "                        <td id=\"T_857520a6_3a26_11eb_99df_5cc5d4cc670drow5_col1\" class=\"data row5 col1\" >0.207315</td>\n",
              "                        <td id=\"T_857520a6_3a26_11eb_99df_5cc5d4cc670drow5_col2\" class=\"data row5 col2\" >-0.120932</td>\n",
              "                        <td id=\"T_857520a6_3a26_11eb_99df_5cc5d4cc670drow5_col3\" class=\"data row5 col3\" >0.053654</td>\n",
              "                        <td id=\"T_857520a6_3a26_11eb_99df_5cc5d4cc670drow5_col4\" class=\"data row5 col4\" >0.133733</td>\n",
              "                        <td id=\"T_857520a6_3a26_11eb_99df_5cc5d4cc670drow5_col5\" class=\"data row5 col5\" >1.000000</td>\n",
              "                        <td id=\"T_857520a6_3a26_11eb_99df_5cc5d4cc670drow5_col6\" class=\"data row5 col6\" >-0.151845</td>\n",
              "                        <td id=\"T_857520a6_3a26_11eb_99df_5cc5d4cc670drow5_col7\" class=\"data row5 col7\" >0.471721</td>\n",
              "                        <td id=\"T_857520a6_3a26_11eb_99df_5cc5d4cc670drow5_col8\" class=\"data row5 col8\" >-0.136677</td>\n",
              "                        <td id=\"T_857520a6_3a26_11eb_99df_5cc5d4cc670drow5_col9\" class=\"data row5 col9\" >0.036271</td>\n",
              "                        <td id=\"T_857520a6_3a26_11eb_99df_5cc5d4cc670drow5_col10\" class=\"data row5 col10\" >-0.063032</td>\n",
              "            </tr>\n",
              "            <tr>\n",
              "                        <th id=\"T_857520a6_3a26_11eb_99df_5cc5d4cc670dlevel0_row6\" class=\"row_heading level0 row6\" >NumberOfTimes90DaysLate</th>\n",
              "                        <td id=\"T_857520a6_3a26_11eb_99df_5cc5d4cc670drow6_col0\" class=\"data row6 col0\" >-0.002494</td>\n",
              "                        <td id=\"T_857520a6_3a26_11eb_99df_5cc5d4cc670drow6_col1\" class=\"data row6 col1\" >-0.090174</td>\n",
              "                        <td id=\"T_857520a6_3a26_11eb_99df_5cc5d4cc670drow6_col2\" class=\"data row6 col2\" >0.988550</td>\n",
              "                        <td id=\"T_857520a6_3a26_11eb_99df_5cc5d4cc670drow6_col3\" class=\"data row6 col3\" >-0.013016</td>\n",
              "                        <td id=\"T_857520a6_3a26_11eb_99df_5cc5d4cc670drow6_col4\" class=\"data row6 col4\" >-0.032564</td>\n",
              "                        <td id=\"T_857520a6_3a26_11eb_99df_5cc5d4cc670drow6_col5\" class=\"data row6 col5\" >-0.151845</td>\n",
              "                        <td id=\"T_857520a6_3a26_11eb_99df_5cc5d4cc670drow6_col6\" class=\"data row6 col6\" >1.000000</td>\n",
              "                        <td id=\"T_857520a6_3a26_11eb_99df_5cc5d4cc670drow6_col7\" class=\"data row6 col7\" >-0.080716</td>\n",
              "                        <td id=\"T_857520a6_3a26_11eb_99df_5cc5d4cc670drow6_col8\" class=\"data row6 col8\" >0.993458</td>\n",
              "                        <td id=\"T_857520a6_3a26_11eb_99df_5cc5d4cc670drow6_col9\" class=\"data row6 col9\" >-0.028275</td>\n",
              "                        <td id=\"T_857520a6_3a26_11eb_99df_5cc5d4cc670drow6_col10\" class=\"data row6 col10\" >0.112177</td>\n",
              "            </tr>\n",
              "            <tr>\n",
              "                        <th id=\"T_857520a6_3a26_11eb_99df_5cc5d4cc670dlevel0_row7\" class=\"row_heading level0 row7\" >NumberRealEstateLoansOrLines</th>\n",
              "                        <td id=\"T_857520a6_3a26_11eb_99df_5cc5d4cc670drow7_col0\" class=\"data row7 col0\" >0.008296</td>\n",
              "                        <td id=\"T_857520a6_3a26_11eb_99df_5cc5d4cc670drow7_col1\" class=\"data row7 col1\" >0.102344</td>\n",
              "                        <td id=\"T_857520a6_3a26_11eb_99df_5cc5d4cc670drow7_col2\" class=\"data row7 col2\" >-0.062873</td>\n",
              "                        <td id=\"T_857520a6_3a26_11eb_99df_5cc5d4cc670drow7_col3\" class=\"data row7 col3\" >0.090579</td>\n",
              "                        <td id=\"T_857520a6_3a26_11eb_99df_5cc5d4cc670drow7_col4\" class=\"data row7 col4\" >0.173106</td>\n",
              "                        <td id=\"T_857520a6_3a26_11eb_99df_5cc5d4cc670drow7_col5\" class=\"data row7 col5\" >0.471721</td>\n",
              "                        <td id=\"T_857520a6_3a26_11eb_99df_5cc5d4cc670drow7_col6\" class=\"data row7 col6\" >-0.080716</td>\n",
              "                        <td id=\"T_857520a6_3a26_11eb_99df_5cc5d4cc670drow7_col7\" class=\"data row7 col7\" >1.000000</td>\n",
              "                        <td id=\"T_857520a6_3a26_11eb_99df_5cc5d4cc670drow7_col8\" class=\"data row7 col8\" >-0.072112</td>\n",
              "                        <td id=\"T_857520a6_3a26_11eb_99df_5cc5d4cc670drow7_col9\" class=\"data row7 col9\" >0.084003</td>\n",
              "                        <td id=\"T_857520a6_3a26_11eb_99df_5cc5d4cc670drow7_col10\" class=\"data row7 col10\" >-0.015253</td>\n",
              "            </tr>\n",
              "            <tr>\n",
              "                        <th id=\"T_857520a6_3a26_11eb_99df_5cc5d4cc670dlevel0_row8\" class=\"row_heading level0 row8\" >NumberOfTime60.89DaysPastDueNotWorse</th>\n",
              "                        <td id=\"T_857520a6_3a26_11eb_99df_5cc5d4cc670drow8_col0\" class=\"data row8 col0\" >-0.002150</td>\n",
              "                        <td id=\"T_857520a6_3a26_11eb_99df_5cc5d4cc670drow8_col1\" class=\"data row8 col1\" >-0.084174</td>\n",
              "                        <td id=\"T_857520a6_3a26_11eb_99df_5cc5d4cc670drow8_col2\" class=\"data row8 col2\" >0.992217</td>\n",
              "                        <td id=\"T_857520a6_3a26_11eb_99df_5cc5d4cc670drow8_col3\" class=\"data row8 col3\" >-0.011825</td>\n",
              "                        <td id=\"T_857520a6_3a26_11eb_99df_5cc5d4cc670drow8_col4\" class=\"data row8 col4\" >-0.029555</td>\n",
              "                        <td id=\"T_857520a6_3a26_11eb_99df_5cc5d4cc670drow8_col5\" class=\"data row8 col5\" >-0.136677</td>\n",
              "                        <td id=\"T_857520a6_3a26_11eb_99df_5cc5d4cc670drow8_col6\" class=\"data row8 col6\" >0.993458</td>\n",
              "                        <td id=\"T_857520a6_3a26_11eb_99df_5cc5d4cc670drow8_col7\" class=\"data row8 col7\" >-0.072112</td>\n",
              "                        <td id=\"T_857520a6_3a26_11eb_99df_5cc5d4cc670drow8_col8\" class=\"data row8 col8\" >1.000000</td>\n",
              "                        <td id=\"T_857520a6_3a26_11eb_99df_5cc5d4cc670drow8_col9\" class=\"data row8 col9\" >-0.029489</td>\n",
              "                        <td id=\"T_857520a6_3a26_11eb_99df_5cc5d4cc670drow8_col10\" class=\"data row8 col10\" >0.097699</td>\n",
              "            </tr>\n",
              "            <tr>\n",
              "                        <th id=\"T_857520a6_3a26_11eb_99df_5cc5d4cc670dlevel0_row9\" class=\"row_heading level0 row9\" >NumberOfDependents</th>\n",
              "                        <td id=\"T_857520a6_3a26_11eb_99df_5cc5d4cc670drow9_col0\" class=\"data row9 col0\" >-0.000051</td>\n",
              "                        <td id=\"T_857520a6_3a26_11eb_99df_5cc5d4cc670drow9_col1\" class=\"data row9 col1\" >-0.177935</td>\n",
              "                        <td id=\"T_857520a6_3a26_11eb_99df_5cc5d4cc670drow9_col2\" class=\"data row9 col2\" >-0.024292</td>\n",
              "                        <td id=\"T_857520a6_3a26_11eb_99df_5cc5d4cc670drow9_col3\" class=\"data row9 col3\" >-0.027823</td>\n",
              "                        <td id=\"T_857520a6_3a26_11eb_99df_5cc5d4cc670drow9_col4\" class=\"data row9 col4\" >0.059460</td>\n",
              "                        <td id=\"T_857520a6_3a26_11eb_99df_5cc5d4cc670drow9_col5\" class=\"data row9 col5\" >0.036271</td>\n",
              "                        <td id=\"T_857520a6_3a26_11eb_99df_5cc5d4cc670drow9_col6\" class=\"data row9 col6\" >-0.028275</td>\n",
              "                        <td id=\"T_857520a6_3a26_11eb_99df_5cc5d4cc670drow9_col7\" class=\"data row9 col7\" >0.084003</td>\n",
              "                        <td id=\"T_857520a6_3a26_11eb_99df_5cc5d4cc670drow9_col8\" class=\"data row9 col8\" >-0.029489</td>\n",
              "                        <td id=\"T_857520a6_3a26_11eb_99df_5cc5d4cc670drow9_col9\" class=\"data row9 col9\" >1.000000</td>\n",
              "                        <td id=\"T_857520a6_3a26_11eb_99df_5cc5d4cc670drow9_col10\" class=\"data row9 col10\" >0.084530</td>\n",
              "            </tr>\n",
              "            <tr>\n",
              "                        <th id=\"T_857520a6_3a26_11eb_99df_5cc5d4cc670dlevel0_row10\" class=\"row_heading level0 row10\" >Class</th>\n",
              "                        <td id=\"T_857520a6_3a26_11eb_99df_5cc5d4cc670drow10_col0\" class=\"data row10 col0\" >0.001183</td>\n",
              "                        <td id=\"T_857520a6_3a26_11eb_99df_5cc5d4cc670drow10_col1\" class=\"data row10 col1\" >-0.238278</td>\n",
              "                        <td id=\"T_857520a6_3a26_11eb_99df_5cc5d4cc670drow10_col2\" class=\"data row10 col2\" >0.120902</td>\n",
              "                        <td id=\"T_857520a6_3a26_11eb_99df_5cc5d4cc670drow10_col3\" class=\"data row10 col3\" >-0.018252</td>\n",
              "                        <td id=\"T_857520a6_3a26_11eb_99df_5cc5d4cc670drow10_col4\" class=\"data row10 col4\" >-0.053739</td>\n",
              "                        <td id=\"T_857520a6_3a26_11eb_99df_5cc5d4cc670drow10_col5\" class=\"data row10 col5\" >-0.063032</td>\n",
              "                        <td id=\"T_857520a6_3a26_11eb_99df_5cc5d4cc670drow10_col6\" class=\"data row10 col6\" >0.112177</td>\n",
              "                        <td id=\"T_857520a6_3a26_11eb_99df_5cc5d4cc670drow10_col7\" class=\"data row10 col7\" >-0.015253</td>\n",
              "                        <td id=\"T_857520a6_3a26_11eb_99df_5cc5d4cc670drow10_col8\" class=\"data row10 col8\" >0.097699</td>\n",
              "                        <td id=\"T_857520a6_3a26_11eb_99df_5cc5d4cc670drow10_col9\" class=\"data row10 col9\" >0.084530</td>\n",
              "                        <td id=\"T_857520a6_3a26_11eb_99df_5cc5d4cc670drow10_col10\" class=\"data row10 col10\" >1.000000</td>\n",
              "            </tr>\n",
              "    </tbody></table>"
            ],
            "text/plain": [
              "<pandas.io.formats.style.Styler at 0x7f25e5ef1320>"
            ]
          },
          "metadata": {
            "tags": []
          },
          "execution_count": 6
        }
      ]
    },
    {
      "cell_type": "code",
      "metadata": {
        "id": "iF45gLpL8Aie"
      },
      "source": [
        "Xtraindf = df[[\"age\", \"DebtRatio\", \"MonthlyIncome\", \"NumberOfOpenCreditLinesAndLoans\",\"RevolvingUtilizationOfUnsecuredLines\"]]"
      ],
      "execution_count": null,
      "outputs": []
    },
    {
      "cell_type": "code",
      "metadata": {
        "id": "ejbao4cV8Aif",
        "outputId": "5e983c96-59cb-42e0-bb2a-40082e434501"
      },
      "source": [
        "Xtraindf"
      ],
      "execution_count": null,
      "outputs": [
        {
          "output_type": "execute_result",
          "data": {
            "text/html": [
              "<div>\n",
              "<style scoped>\n",
              "    .dataframe tbody tr th:only-of-type {\n",
              "        vertical-align: middle;\n",
              "    }\n",
              "\n",
              "    .dataframe tbody tr th {\n",
              "        vertical-align: top;\n",
              "    }\n",
              "\n",
              "    .dataframe thead th {\n",
              "        text-align: right;\n",
              "    }\n",
              "</style>\n",
              "<table border=\"1\" class=\"dataframe\">\n",
              "  <thead>\n",
              "    <tr style=\"text-align: right;\">\n",
              "      <th></th>\n",
              "      <th>age</th>\n",
              "      <th>DebtRatio</th>\n",
              "      <th>MonthlyIncome</th>\n",
              "      <th>NumberOfOpenCreditLinesAndLoans</th>\n",
              "      <th>RevolvingUtilizationOfUnsecuredLines</th>\n",
              "    </tr>\n",
              "  </thead>\n",
              "  <tbody>\n",
              "    <tr>\n",
              "      <th>0</th>\n",
              "      <td>54</td>\n",
              "      <td>0.000000</td>\n",
              "      <td>1666.0</td>\n",
              "      <td>1</td>\n",
              "      <td>1.000000</td>\n",
              "    </tr>\n",
              "    <tr>\n",
              "      <th>1</th>\n",
              "      <td>40</td>\n",
              "      <td>0.510355</td>\n",
              "      <td>4200.0</td>\n",
              "      <td>8</td>\n",
              "      <td>0.497080</td>\n",
              "    </tr>\n",
              "    <tr>\n",
              "      <th>2</th>\n",
              "      <td>40</td>\n",
              "      <td>0.047542</td>\n",
              "      <td>3070.0</td>\n",
              "      <td>6</td>\n",
              "      <td>0.797681</td>\n",
              "    </tr>\n",
              "    <tr>\n",
              "      <th>3</th>\n",
              "      <td>61</td>\n",
              "      <td>244.000000</td>\n",
              "      <td>NaN</td>\n",
              "      <td>14</td>\n",
              "      <td>0.043304</td>\n",
              "    </tr>\n",
              "    <tr>\n",
              "      <th>4</th>\n",
              "      <td>49</td>\n",
              "      <td>4.000000</td>\n",
              "      <td>NaN</td>\n",
              "      <td>1</td>\n",
              "      <td>0.810945</td>\n",
              "    </tr>\n",
              "    <tr>\n",
              "      <th>...</th>\n",
              "      <td>...</td>\n",
              "      <td>...</td>\n",
              "      <td>...</td>\n",
              "      <td>...</td>\n",
              "      <td>...</td>\n",
              "    </tr>\n",
              "    <tr>\n",
              "      <th>20047</th>\n",
              "      <td>68</td>\n",
              "      <td>0.156606</td>\n",
              "      <td>4041.0</td>\n",
              "      <td>8</td>\n",
              "      <td>0.017758</td>\n",
              "    </tr>\n",
              "    <tr>\n",
              "      <th>20048</th>\n",
              "      <td>47</td>\n",
              "      <td>0.943189</td>\n",
              "      <td>1548.0</td>\n",
              "      <td>5</td>\n",
              "      <td>0.998143</td>\n",
              "    </tr>\n",
              "    <tr>\n",
              "      <th>20049</th>\n",
              "      <td>46</td>\n",
              "      <td>3165.000000</td>\n",
              "      <td>NaN</td>\n",
              "      <td>13</td>\n",
              "      <td>0.466800</td>\n",
              "    </tr>\n",
              "    <tr>\n",
              "      <th>20050</th>\n",
              "      <td>68</td>\n",
              "      <td>0.495975</td>\n",
              "      <td>1614.0</td>\n",
              "      <td>4</td>\n",
              "      <td>1.000000</td>\n",
              "    </tr>\n",
              "    <tr>\n",
              "      <th>20051</th>\n",
              "      <td>34</td>\n",
              "      <td>0.488678</td>\n",
              "      <td>10200.0</td>\n",
              "      <td>16</td>\n",
              "      <td>0.218612</td>\n",
              "    </tr>\n",
              "  </tbody>\n",
              "</table>\n",
              "<p>20052 rows × 5 columns</p>\n",
              "</div>"
            ],
            "text/plain": [
              "       age    DebtRatio  MonthlyIncome  NumberOfOpenCreditLinesAndLoans  \\\n",
              "0       54     0.000000         1666.0                                1   \n",
              "1       40     0.510355         4200.0                                8   \n",
              "2       40     0.047542         3070.0                                6   \n",
              "3       61   244.000000            NaN                               14   \n",
              "4       49     4.000000            NaN                                1   \n",
              "...    ...          ...            ...                              ...   \n",
              "20047   68     0.156606         4041.0                                8   \n",
              "20048   47     0.943189         1548.0                                5   \n",
              "20049   46  3165.000000            NaN                               13   \n",
              "20050   68     0.495975         1614.0                                4   \n",
              "20051   34     0.488678        10200.0                               16   \n",
              "\n",
              "       RevolvingUtilizationOfUnsecuredLines  \n",
              "0                                  1.000000  \n",
              "1                                  0.497080  \n",
              "2                                  0.797681  \n",
              "3                                  0.043304  \n",
              "4                                  0.810945  \n",
              "...                                     ...  \n",
              "20047                              0.017758  \n",
              "20048                              0.998143  \n",
              "20049                              0.466800  \n",
              "20050                              1.000000  \n",
              "20051                              0.218612  \n",
              "\n",
              "[20052 rows x 5 columns]"
            ]
          },
          "metadata": {
            "tags": []
          },
          "execution_count": 23
        }
      ]
    },
    {
      "cell_type": "code",
      "metadata": {
        "id": "hH4mof_98Aih"
      },
      "source": [
        ""
      ],
      "execution_count": null,
      "outputs": []
    },
    {
      "cell_type": "code",
      "metadata": {
        "id": "YT2X1Fqy8Aii"
      },
      "source": [
        "ytrain = df[[\"Class\"]]"
      ],
      "execution_count": null,
      "outputs": []
    },
    {
      "cell_type": "code",
      "metadata": {
        "id": "uTP9PERS8Aik"
      },
      "source": [
        "from sklearn.linear_model import LogisticRegression"
      ],
      "execution_count": null,
      "outputs": []
    },
    {
      "cell_type": "code",
      "metadata": {
        "id": "c6S7RTXA8Aio",
        "outputId": "5c0415eb-bc86-46f8-f3a0-44a3e55337cb"
      },
      "source": [
        "clf = LogisticRegression(random_state=0)\n",
        "clf.fit(Xtraindf, ytrain)"
      ],
      "execution_count": null,
      "outputs": [
        {
          "output_type": "stream",
          "text": [
            "/home/specialthanks/.local/lib/python3.6/site-packages/sklearn/utils/validation.py:72: DataConversionWarning: A column-vector y was passed when a 1d array was expected. Please change the shape of y to (n_samples, ), for example using ravel().\n",
            "  return f(**kwargs)\n"
          ],
          "name": "stderr"
        },
        {
          "output_type": "execute_result",
          "data": {
            "text/plain": [
              "LogisticRegression(random_state=0)"
            ]
          },
          "metadata": {
            "tags": []
          },
          "execution_count": 25
        }
      ]
    },
    {
      "cell_type": "code",
      "metadata": {
        "id": "nm2AL5Hv8Aip"
      },
      "source": [
        "Xtraindf = Xtraindf.fillna(Xtraindf.mean())"
      ],
      "execution_count": null,
      "outputs": []
    },
    {
      "cell_type": "markdown",
      "metadata": {
        "id": "vgcESkK78Aiq"
      },
      "source": [
        ""
      ]
    },
    {
      "cell_type": "code",
      "metadata": {
        "id": "rgUr2qXp8Air",
        "outputId": "9cd05797-34d1-4ab7-9c25-9065c6b69983"
      },
      "source": [
        "importance = clf.coef_\n",
        "# summarize feature importance\n",
        "importance[0]"
      ],
      "execution_count": null,
      "outputs": [
        {
          "output_type": "execute_result",
          "data": {
            "text/plain": [
              "array([-4.67207421e-03, -1.75043141e-05, -3.82674982e-06,  1.59478558e-02,\n",
              "        6.02914667e-05])"
            ]
          },
          "metadata": {
            "tags": []
          },
          "execution_count": 29
        }
      ]
    },
    {
      "cell_type": "code",
      "metadata": {
        "id": "4j-aAiEg8Ais",
        "outputId": "9c053f08-b1a8-4647-84bc-c2cf5c9eb500"
      },
      "source": [
        "\n",
        "for i,v in enumerate(importance[0]):\n",
        "    print('Feature: %0d, Score: %.5f' % (i,v))\n",
        "# plot feature importance\n"
      ],
      "execution_count": null,
      "outputs": [
        {
          "output_type": "stream",
          "text": [
            "Feature: 0, Score: -0.00467\n",
            "Feature: 1, Score: -0.00002\n",
            "Feature: 2, Score: -0.00000\n",
            "Feature: 3, Score: 0.01595\n",
            "Feature: 4, Score: 0.00006\n"
          ],
          "name": "stdout"
        }
      ]
    },
    {
      "cell_type": "code",
      "metadata": {
        "id": "iCJ0PnnR8Ais"
      },
      "source": [
        "import matplotlib.pyplot as plt"
      ],
      "execution_count": null,
      "outputs": []
    },
    {
      "cell_type": "code",
      "metadata": {
        "id": "Y5Qu4rlc8Ait"
      },
      "source": [
        ""
      ],
      "execution_count": null,
      "outputs": []
    },
    {
      "cell_type": "code",
      "metadata": {
        "id": "LDacliIw8Aiu"
      },
      "source": [
        "ypred = clf.predict(Xtraindf)"
      ],
      "execution_count": null,
      "outputs": []
    },
    {
      "cell_type": "code",
      "metadata": {
        "id": "JyDdVrvk8Aiu"
      },
      "source": [
        "from sklearn.metrics import plot_confusion_matrix"
      ],
      "execution_count": null,
      "outputs": []
    },
    {
      "cell_type": "code",
      "metadata": {
        "id": "6Cz9R3498Aiv",
        "outputId": "8c70680f-5d01-4083-e059-58207ec8c60e"
      },
      "source": [
        "plot_confusion_matrix(clf, Xtraindf, ytrain)"
      ],
      "execution_count": null,
      "outputs": [
        {
          "output_type": "execute_result",
          "data": {
            "text/plain": [
              "<sklearn.metrics._plot.confusion_matrix.ConfusionMatrixDisplay at 0x7f25e2b4f0f0>"
            ]
          },
          "metadata": {
            "tags": []
          },
          "execution_count": 40
        },
        {
          "output_type": "display_data",
          "data": {
            "image/png": "[encoded data removed]",
            "text/plain": [
              "<Figure size 432x288 with 2 Axes>"
            ]
          },
          "metadata": {
            "tags": [],
            "needs_background": "light"
          }
        }
      ]
    },
    {
      "cell_type": "code",
      "metadata": {
        "id": "6-KCPgXg8Ai7"
      },
      "source": [
        ""
      ],
      "execution_count": null,
      "outputs": []
    }
  ]
}